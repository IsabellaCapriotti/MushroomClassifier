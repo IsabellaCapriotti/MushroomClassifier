{
 "cells": [
  {
   "cell_type": "code",
   "execution_count": 1,
   "metadata": {},
   "outputs": [],
   "source": [
    "# Import needed libraries\n",
    "import pandas as pd\n",
    "import numpy as np \n",
    "import math"
   ]
  },
  {
   "cell_type": "code",
   "execution_count": 2,
   "metadata": {},
   "outputs": [],
   "source": [
    "# Read data\n",
    "mushroom_data = pd.read_csv('agaricus-lepiota.data', names=['poison-label', 'cap-shape', 'cap-surface', 'cap-color', 'bruises', 'odor', 'gill-attachment', 'gill-spacing', 'gill-size', 'gill-color', 'stalk-shape', 'stalk-root', 'stalk-surface-above-ring', 'stalk-surface-below-ring', 'stalk-color-above-ring', 'stalk-color-below-ring', 'veil-type', 'veil-color', 'ring-number', 'ring-type', 'spore-print-color', 'population', 'habitat'])\n",
    "mushroom_data = mushroom_data.reindex(np.random.permutation(mushroom_data.index))\n",
    "\n",
    "# Separate out labels\n",
    "mushroom_labels = pd.DataFrame(mushroom_data['poison-label'])\n",
    "mushroom_data.drop('poison-label', axis=1, inplace=True)"
   ]
  },
  {
   "cell_type": "code",
   "execution_count": 3,
   "metadata": {},
   "outputs": [],
   "source": [
    "# Convert non-numerical data to numbers\n",
    "def convert_to_numbers(column):\n",
    "    vals = {}\n",
    "    currMapIndex = 0\n",
    "    for item in column: \n",
    "        if item not in vals:\n",
    "            vals[item] = currMapIndex\n",
    "            currMapIndex += 1\n",
    "    column.replace(vals, inplace=True)\n",
    "    \n",
    "for colName, colData in mushroom_data.iteritems():\n",
    "    convert_to_numbers(colData)"
   ]
  },
  {
   "cell_type": "code",
   "execution_count": 4,
   "metadata": {},
   "outputs": [],
   "source": [
    "# Add cross features\n",
    "mushroom_data['stalk-shape-and-root'] = mushroom_data['stalk-shape'] * mushroom_data['stalk-root']\n",
    "mushroom_data['veil-type-and-color'] = mushroom_data['veil-type'] * mushroom_data['veil-color']\n",
    "mushroom_data['all-cap'] = mushroom_data['cap-shape'] * mushroom_data['cap-surface'] * mushroom_data['cap-color']\n",
    "mushroom_data['all-gill'] =  mushroom_data['gill-size'] * mushroom_data['gill-color'] * mushroom_data['gill-spacing']\n",
    "mushroom_data['ring-type-and-number'] = mushroom_data['ring-type'] * mushroom_data['ring-number']\n",
    "mushroom_data['stalk-and-cap'] = mushroom_data['stalk-shape-and-root'] * mushroom_data['all-cap']\n",
    "mushroom_data['gill-and-veil'] = mushroom_data['all-gill'] * mushroom_data['veil-type-and-color']\n",
    "mushroom_data['stalk-and-gill'] = mushroom_data['stalk-shape-and-root'] * mushroom_data['all-gill']"
   ]
  },
  {
   "cell_type": "code",
   "execution_count": 5,
   "metadata": {},
   "outputs": [],
   "source": [
    "# Convert edible/poisonous to boolean \n",
    "mushroom_labels.replace({'p': 0, 'e': 1}, inplace=True)"
   ]
  },
  {
   "cell_type": "code",
   "execution_count": 6,
   "metadata": {},
   "outputs": [],
   "source": [
    "# Separate into train and test sets\n",
    "mushroom_data_train = mushroom_data.iloc[:7325]\n",
    "mushroom_data_test = mushroom_data.iloc[7325:]\n",
    "\n",
    "mushroom_labels_train = mushroom_labels[:7325]\n",
    "mushroom_labels_test = mushroom_labels[7325:]"
   ]
  },
  {
   "cell_type": "code",
   "execution_count": 7,
   "metadata": {},
   "outputs": [],
   "source": [
    "# Convert dataframes to numpy arrays\n",
    "mushroom_data_train = mushroom_data_train.to_numpy().T\n",
    "mushroom_data_test = mushroom_data_test.to_numpy().T\n",
    "\n",
    "mushroom_labels_train = mushroom_labels_train.to_numpy().T\n",
    "mushroom_labels_test = mushroom_labels_test.to_numpy().T"
   ]
  },
  {
   "cell_type": "code",
   "execution_count": 8,
   "metadata": {},
   "outputs": [],
   "source": [
    "# Initialize parameters\n",
    "def initialize_parameters(input_shape):\n",
    "    W = np.random.randn(input_shape[0],1) * .01\n",
    "    b = np.random.randn() * .01\n",
    "    \n",
    "    return (W, b)"
   ]
  },
  {
   "cell_type": "code",
   "execution_count": 9,
   "metadata": {},
   "outputs": [],
   "source": [
    "# Sigmoid implementation\n",
    "def sigmoid(z):\n",
    "    return 1 / ( 1 + np.exp(z * -1))"
   ]
  },
  {
   "cell_type": "code",
   "execution_count": 10,
   "metadata": {},
   "outputs": [],
   "source": [
    "# Forward propagation implementation\n",
    "def forward_prop(weights, bias, input_data):\n",
    "    Z = np.dot(weights.T, input_data) + bias\n",
    "    return sigmoid(Z)"
   ]
  },
  {
   "cell_type": "code",
   "execution_count": 11,
   "metadata": {},
   "outputs": [],
   "source": [
    "# Loss function implementation\n",
    "def compute_loss(y_actual, y_predicted):\n",
    "    epsilon = 1e-5\n",
    "    inputSize = y_actual.shape[1]\n",
    "    \n",
    "    loss = -1/inputSize * np.sum(y_actual * np.log(y_predicted + epsilon) + (1 - y_actual) * np.log((1 - y_predicted) + epsilon))\n",
    "    return loss"
   ]
  },
  {
   "cell_type": "code",
   "execution_count": 12,
   "metadata": {
    "scrolled": true
   },
   "outputs": [],
   "source": [
    "# Back propagation implementation\n",
    "def back_prop(input_data, y_actual, y_predicted):\n",
    "    inputSize = y_actual.shape[1]\n",
    "    \n",
    "    dz = y_predicted - y_actual\n",
    "    db = 1/inputSize * np.sum(dz)\n",
    "    dw = 1/inputSize * np.dot(input_data, dz.T)\n",
    "    \n",
    "    return (dz, db, dw)"
   ]
  },
  {
   "cell_type": "code",
   "execution_count": 13,
   "metadata": {},
   "outputs": [],
   "source": [
    "# Update weights function implementation\n",
    "def update_weights(weights, bias, dw, db, learning_rate): \n",
    "    weights = weights - learning_rate * dw\n",
    "    bias = bias - learning_rate * db\n",
    "    return (weights, bias)"
   ]
  },
  {
   "cell_type": "code",
   "execution_count": 14,
   "metadata": {},
   "outputs": [],
   "source": [
    "# Function to train model\n",
    "def train_model(epochs, learning_rate, input_data, input_labels):\n",
    "    \n",
    "    # Initialize weights\n",
    "    W, b = initialize_parameters(input_data.shape)\n",
    "    \n",
    "    for i in range(epochs): \n",
    "        # Forward propagation\n",
    "        predictions = forward_prop(W, b, input_data)\n",
    "        \n",
    "        # Compute loss\n",
    "        loss = compute_loss(input_labels, predictions)\n",
    "        \n",
    "        if i % 300 == 0:\n",
    "            print('Loss on epoch', i+1, 'is', loss)\n",
    "        \n",
    "        # Back propagation\n",
    "        dz, db, dw = back_prop(input_data, input_labels, predictions)\n",
    "        \n",
    "        # Update weights\n",
    "        W, b = update_weights(W, b, dw, db, learning_rate)\n",
    "        \n",
    "    # Return final weights and bias\n",
    "    return W, b"
   ]
  },
  {
   "cell_type": "code",
   "execution_count": 16,
   "metadata": {},
   "outputs": [
    {
     "name": "stdout",
     "output_type": "stream",
     "text": [
      "Loss on epoch 1 is 0.6798813542869999\n",
      "Loss on epoch 301 is 0.11405378564848676\n",
      "Loss on epoch 601 is 0.09793766655060385\n",
      "Loss on epoch 901 is 0.0887296023655224\n",
      "Loss on epoch 1201 is 0.08250311742126078\n",
      "Loss on epoch 1501 is 0.07788203350897029\n",
      "Loss on epoch 1801 is 0.07423677623762527\n",
      "Loss on epoch 2101 is 0.07123547343425987\n",
      "Loss on epoch 2401 is 0.06868584509388395\n",
      "Loss on epoch 2701 is 0.06646840467312443\n",
      "Loss on epoch 3001 is 0.06450470745363397\n",
      "Loss on epoch 3301 is 0.06274090264989579\n",
      "Loss on epoch 3601 is 0.06113862462068974\n",
      "Loss on epoch 3901 is 0.05966966988592273\n",
      "Loss on epoch 4201 is 0.05831274492407674\n",
      "Loss on epoch 4501 is 0.057051402650620434\n",
      "Loss on epoch 4801 is 0.05587268954024589\n",
      "Loss on epoch 5101 is 0.054766232723653066\n",
      "Loss on epoch 5401 is 0.05372360791401786\n",
      "Loss on epoch 5701 is 0.05273789141495867\n",
      "Loss on epoch 6001 is 0.051803335584522624\n",
      "Loss on epoch 6301 is 0.05091512869215304\n",
      "Loss on epoch 6601 is 0.05006921335893097\n",
      "Loss on epoch 6901 is 0.0492621461710592\n",
      "Loss on epoch 7201 is 0.048490986568008085\n",
      "Loss on epoch 7501 is 0.04775320686564199\n",
      "Loss on epoch 7801 is 0.04704661793160358\n"
     ]
    }
   ],
   "source": [
    "# Train model\n",
    "final_weights, final_bias = train_model(8000, .5, mushroom_data_train, mushroom_labels_train)"
   ]
  },
  {
   "cell_type": "code",
   "execution_count": 17,
   "metadata": {},
   "outputs": [],
   "source": [
    "# Function to test model \n",
    "def test_model(test_input, test_labels, weights, bias): \n",
    "    \n",
    "    # Get predictions\n",
    "    predictions = forward_prop(weights, bias, test_input)\n",
    "    \n",
    "    # Compute loss\n",
    "    loss = compute_loss(test_labels, predictions)\n",
    "    \n",
    "    print('Loss is', loss)"
   ]
  },
  {
   "cell_type": "code",
   "execution_count": 18,
   "metadata": {},
   "outputs": [
    {
     "name": "stdout",
     "output_type": "stream",
     "text": [
      "Loss is 0.05641289022115028\n"
     ]
    }
   ],
   "source": [
    "test_model(mushroom_data_test, mushroom_labels_test, final_weights, final_bias)"
   ]
  },
  {
   "cell_type": "code",
   "execution_count": 242,
   "metadata": {},
   "outputs": [],
   "source": [
    "# Function to predict on new input\n",
    "def predict(new_input, weights, bias):\n",
    "    predictions = forward_prop(new_input, weights, bias)\n",
    "    return predictions"
   ]
  },
  {
   "cell_type": "code",
   "execution_count": null,
   "metadata": {},
   "outputs": [],
   "source": []
  }
 ],
 "metadata": {
  "kernelspec": {
   "display_name": "Python 3",
   "language": "python",
   "name": "python3"
  },
  "language_info": {
   "codemirror_mode": {
    "name": "ipython",
    "version": 3
   },
   "file_extension": ".py",
   "mimetype": "text/x-python",
   "name": "python",
   "nbconvert_exporter": "python",
   "pygments_lexer": "ipython3",
   "version": "3.8.7"
  }
 },
 "nbformat": 4,
 "nbformat_minor": 4
}
